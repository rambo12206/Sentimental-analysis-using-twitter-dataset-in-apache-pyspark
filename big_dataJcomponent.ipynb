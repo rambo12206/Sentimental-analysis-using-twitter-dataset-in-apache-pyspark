{
 "cells": [
  {
   "cell_type": "code",
   "execution_count": null,
   "metadata": {
    "collapsed": true,
    "id": "MSmI1UWnZeGq"
   },
   "outputs": [],
   "source": [
    "Title- Sentimental analysis using twitter dataset in apache pyspark\n",
    "\n",
    "VISHNU SHASHANK    (20MCB1009)\n",
    "EZHIL OVIYA.D      (20MCB1003)\n",
    "AKSHAY KUMAR YADAV (20MCB1015)"
   ]
  },
  {
   "cell_type": "code",
   "execution_count": null,
   "metadata": {
    "colab": {
     "base_uri": "https://localhost:8080/"
    },
    "id": "HEh69gLOZpx9",
    "outputId": "08cc8d33-3821-4cc4-a98f-6ce90fe49be1"
   },
   "outputs": [
    {
     "name": "stdout",
     "output_type": "stream",
     "text": [
      "\r",
      "0% [Working]\r",
      "            \r",
      "Get:1 http://security.ubuntu.com/ubuntu bionic-security InRelease [88.7 kB]\n",
      "Ign:2 https://developer.download.nvidia.com/compute/cuda/repos/ubuntu1804/x86_64  InRelease\n",
      "Get:3 https://cloud.r-project.org/bin/linux/ubuntu bionic-cran40/ InRelease [3,626 B]\n",
      "Get:4 http://ppa.launchpad.net/c2d4u.team/c2d4u4.0+/ubuntu bionic InRelease [15.9 kB]\n",
      "Ign:5 https://developer.download.nvidia.com/compute/machine-learning/repos/ubuntu1804/x86_64  InRelease\n",
      "Get:6 https://developer.download.nvidia.com/compute/cuda/repos/ubuntu1804/x86_64  Release [697 B]\n",
      "Hit:7 http://archive.ubuntu.com/ubuntu bionic InRelease\n",
      "Hit:8 https://developer.download.nvidia.com/compute/machine-learning/repos/ubuntu1804/x86_64  Release\n",
      "Get:9 https://developer.download.nvidia.com/compute/cuda/repos/ubuntu1804/x86_64  Release.gpg [836 B]\n",
      "Get:10 http://archive.ubuntu.com/ubuntu bionic-updates InRelease [88.7 kB]\n",
      "Get:11 http://ppa.launchpad.net/graphics-drivers/ppa/ubuntu bionic InRelease [21.3 kB]\n",
      "Get:12 http://security.ubuntu.com/ubuntu bionic-security/main amd64 Packages [1,781 kB]\n",
      "Get:13 http://archive.ubuntu.com/ubuntu bionic-backports InRelease [74.6 kB]\n",
      "Get:14 http://security.ubuntu.com/ubuntu bionic-security/universe amd64 Packages [1,366 kB]\n",
      "Ign:16 https://developer.download.nvidia.com/compute/cuda/repos/ubuntu1804/x86_64  Packages\n",
      "Get:16 https://developer.download.nvidia.com/compute/cuda/repos/ubuntu1804/x86_64  Packages [443 kB]\n",
      "Get:17 http://ppa.launchpad.net/c2d4u.team/c2d4u4.0+/ubuntu bionic/main Sources [1,691 kB]\n",
      "Get:18 http://archive.ubuntu.com/ubuntu bionic-updates/main amd64 Packages [2,218 kB]\n",
      "Get:19 http://archive.ubuntu.com/ubuntu bionic-updates/restricted amd64 Packages [257 kB]\n",
      "Get:20 http://archive.ubuntu.com/ubuntu bionic-updates/multiverse amd64 Packages [54.3 kB]\n",
      "Get:21 http://archive.ubuntu.com/ubuntu bionic-updates/universe amd64 Packages [2,131 kB]\n",
      "Get:22 http://ppa.launchpad.net/c2d4u.team/c2d4u4.0+/ubuntu bionic/main amd64 Packages [865 kB]\n",
      "Get:23 http://ppa.launchpad.net/graphics-drivers/ppa/ubuntu bionic/main amd64 Packages [46.5 kB]\n",
      "Fetched 11.1 MB in 3s (3,205 kB/s)\n",
      "Reading package lists... Done\n",
      "Collecting pyspark\n",
      "\u001b[?25l  Downloading https://files.pythonhosted.org/packages/f0/26/198fc8c0b98580f617cb03cb298c6056587b8f0447e20fa40c5b634ced77/pyspark-3.0.1.tar.gz (204.2MB)\n",
      "\u001b[K     |████████████████████████████████| 204.2MB 65kB/s \n",
      "\u001b[?25hCollecting py4j==0.10.9\n",
      "\u001b[?25l  Downloading https://files.pythonhosted.org/packages/9e/b6/6a4fb90cd235dc8e265a6a2067f2a2c99f0d91787f06aca4bcf7c23f3f80/py4j-0.10.9-py2.py3-none-any.whl (198kB)\n",
      "\u001b[K     |████████████████████████████████| 204kB 46.1MB/s \n",
      "\u001b[?25hBuilding wheels for collected packages: pyspark\n",
      "  Building wheel for pyspark (setup.py) ... \u001b[?25l\u001b[?25hdone\n",
      "  Created wheel for pyspark: filename=pyspark-3.0.1-py2.py3-none-any.whl size=204612243 sha256=eba23c465575f279097abe2eedc361f761e79773f87bae79f5ac255226627dfb\n",
      "  Stored in directory: /root/.cache/pip/wheels/5e/bd/07/031766ca628adec8435bb40f0bd83bb676ce65ff4007f8e73f\n",
      "Successfully built pyspark\n",
      "Installing collected packages: py4j, pyspark\n",
      "Successfully installed py4j-0.10.9 pyspark-3.0.1\n",
      "The following additional packages will be installed:\n",
      "  openjdk-8-jre-headless\n",
      "Suggested packages:\n",
      "  openjdk-8-demo openjdk-8-source libnss-mdns fonts-dejavu-extra\n",
      "  fonts-ipafont-gothic fonts-ipafont-mincho fonts-wqy-microhei\n",
      "  fonts-wqy-zenhei fonts-indic\n",
      "The following NEW packages will be installed:\n",
      "  openjdk-8-jdk-headless openjdk-8-jre-headless\n",
      "0 upgraded, 2 newly installed, 0 to remove and 64 not upgraded.\n",
      "Need to get 36.5 MB of archives.\n",
      "After this operation, 143 MB of additional disk space will be used.\n",
      "Selecting previously unselected package openjdk-8-jre-headless:amd64.\n",
      "(Reading database ... 144793 files and directories currently installed.)\n",
      "Preparing to unpack .../openjdk-8-jre-headless_8u275-b01-0ubuntu1~18.04_amd64.deb ...\n",
      "Unpacking openjdk-8-jre-headless:amd64 (8u275-b01-0ubuntu1~18.04) ...\n",
      "Selecting previously unselected package openjdk-8-jdk-headless:amd64.\n",
      "Preparing to unpack .../openjdk-8-jdk-headless_8u275-b01-0ubuntu1~18.04_amd64.deb ...\n",
      "Unpacking openjdk-8-jdk-headless:amd64 (8u275-b01-0ubuntu1~18.04) ...\n",
      "Setting up openjdk-8-jre-headless:amd64 (8u275-b01-0ubuntu1~18.04) ...\n",
      "update-alternatives: using /usr/lib/jvm/java-8-openjdk-amd64/jre/bin/orbd to provide /usr/bin/orbd (orbd) in auto mode\n",
      "update-alternatives: using /usr/lib/jvm/java-8-openjdk-amd64/jre/bin/servertool to provide /usr/bin/servertool (servertool) in auto mode\n",
      "update-alternatives: using /usr/lib/jvm/java-8-openjdk-amd64/jre/bin/tnameserv to provide /usr/bin/tnameserv (tnameserv) in auto mode\n",
      "Setting up openjdk-8-jdk-headless:amd64 (8u275-b01-0ubuntu1~18.04) ...\n",
      "update-alternatives: using /usr/lib/jvm/java-8-openjdk-amd64/bin/idlj to provide /usr/bin/idlj (idlj) in auto mode\n",
      "update-alternatives: using /usr/lib/jvm/java-8-openjdk-amd64/bin/wsimport to provide /usr/bin/wsimport (wsimport) in auto mode\n",
      "update-alternatives: using /usr/lib/jvm/java-8-openjdk-amd64/bin/jsadebugd to provide /usr/bin/jsadebugd (jsadebugd) in auto mode\n",
      "update-alternatives: using /usr/lib/jvm/java-8-openjdk-amd64/bin/native2ascii to provide /usr/bin/native2ascii (native2ascii) in auto mode\n",
      "update-alternatives: using /usr/lib/jvm/java-8-openjdk-amd64/bin/javah to provide /usr/bin/javah (javah) in auto mode\n",
      "update-alternatives: using /usr/lib/jvm/java-8-openjdk-amd64/bin/clhsdb to provide /usr/bin/clhsdb (clhsdb) in auto mode\n",
      "update-alternatives: using /usr/lib/jvm/java-8-openjdk-amd64/bin/xjc to provide /usr/bin/xjc (xjc) in auto mode\n",
      "update-alternatives: using /usr/lib/jvm/java-8-openjdk-amd64/bin/hsdb to provide /usr/bin/hsdb (hsdb) in auto mode\n",
      "update-alternatives: using /usr/lib/jvm/java-8-openjdk-amd64/bin/schemagen to provide /usr/bin/schemagen (schemagen) in auto mode\n",
      "update-alternatives: using /usr/lib/jvm/java-8-openjdk-amd64/bin/extcheck to provide /usr/bin/extcheck (extcheck) in auto mode\n",
      "update-alternatives: using /usr/lib/jvm/java-8-openjdk-amd64/bin/jhat to provide /usr/bin/jhat (jhat) in auto mode\n",
      "update-alternatives: using /usr/lib/jvm/java-8-openjdk-amd64/bin/wsgen to provide /usr/bin/wsgen (wsgen) in auto mode\n"
     ]
    }
   ],
   "source": [
    "!apt-get update\n",
    "!pip install pyspark\n",
    "!pip install -U -q PyDrive\n",
    "!apt install openjdk-8-jdk-headless -qq\n",
    "import os\n",
    "os.environ[\"JAVA_HOME\"] = \"/usr/lib/jvm/java-8-openjdk-amd64\""
   ]
  },
  {
   "cell_type": "code",
   "execution_count": null,
   "metadata": {
    "colab": {
     "base_uri": "https://localhost:8080/"
    },
    "id": "IdIrTVfMZre8",
    "outputId": "5281f690-bcb7-4970-bed0-2fc655532a80"
   },
   "outputs": [
    {
     "name": "stdout",
     "output_type": "stream",
     "text": [
      "Collecting langid\n",
      "\u001b[?25l  Downloading https://files.pythonhosted.org/packages/ea/4c/0fb7d900d3b0b9c8703be316fbddffecdab23c64e1b46c7a83561d78bd43/langid-1.1.6.tar.gz (1.9MB)\n",
      "\u001b[K     |████████████████████████████████| 1.9MB 5.5MB/s \n",
      "\u001b[?25hRequirement already satisfied: numpy in /usr/local/lib/python3.6/dist-packages (from langid) (1.18.5)\n",
      "Building wheels for collected packages: langid\n",
      "  Building wheel for langid (setup.py) ... \u001b[?25l\u001b[?25hdone\n",
      "  Created wheel for langid: filename=langid-1.1.6-cp36-none-any.whl size=1941192 sha256=7dbb0518867895dc0ec2754799cfdd26b0106ad621bad0f31897af798d3000d3\n",
      "  Stored in directory: /root/.cache/pip/wheels/29/bc/61/50a93be85d1afe9436c3dc61f38da8ad7b637a38af4824e86e\n",
      "Successfully built langid\n",
      "Installing collected packages: langid\n",
      "Successfully installed langid-1.1.6\n",
      "[nltk_data] Downloading package stopwords to /root/nltk_data...\n",
      "[nltk_data]   Unzipping corpora/stopwords.zip.\n",
      "[nltk_data] Downloading package averaged_perceptron_tagger to\n",
      "[nltk_data]     /root/nltk_data...\n",
      "[nltk_data]   Unzipping taggers/averaged_perceptron_tagger.zip.\n",
      "[nltk_data] Downloading package wordnet to /root/nltk_data...\n",
      "[nltk_data]   Unzipping corpora/wordnet.zip.\n",
      "Requirement already satisfied: regex in /usr/local/lib/python3.6/dist-packages (2019.12.20)\n"
     ]
    }
   ],
   "source": [
    "import pyspark\n",
    "from pyspark.sql import *\n",
    "from pyspark.sql.functions import *\n",
    "from pyspark import SparkContext, SparkConf\n",
    "from pyspark.sql import SQLContext\n",
    "\n",
    "!pip install langid\n",
    "import langid\n",
    "\n",
    "from pyspark.sql.types import StringType,FloatType,StructType,StructField\n",
    "\n",
    "import nltk\n",
    "nltk.download('stopwords')\n",
    "nltk.download('averaged_perceptron_tagger')\n",
    "nltk.download('wordnet')\n",
    "from nltk.corpus import stopwords\n",
    "\n",
    "from nltk import RegexpParser\n",
    "from nltk import pos_tag\n",
    "from nltk.stem.wordnet import WordNetLemmatizer\n",
    "\n",
    "!pip install regex\n",
    "import re \n",
    "import string\n",
    "\n",
    "\n"
   ]
  },
  {
   "cell_type": "code",
   "execution_count": null,
   "metadata": {
    "collapsed": true,
    "id": "c1VcwxF3aJhX"
   },
   "outputs": [],
   "source": [
    "# create the session\n",
    "conf = SparkConf().set(\"spark.ui.port\", \"4050\")\n",
    "\n",
    "# create the context\n",
    "sc = pyspark.SparkContext(conf=conf)\n",
    "spark = SparkSession.builder.getOrCreate()\n",
    "sqlContext = SQLContext(sc)"
   ]
  },
  {
   "cell_type": "code",
   "execution_count": null,
   "metadata": {
    "collapsed": true,
    "id": "kPmoZf7RaMTD"
   },
   "outputs": [],
   "source": [
    "def check_blanks(data_str):\n",
    "    is_blank = str(data_str.isspace())\n",
    "    return is_blank"
   ]
  },
  {
   "cell_type": "code",
   "execution_count": null,
   "metadata": {
    "collapsed": true,
    "id": "O0NeVn9CaOgu"
   },
   "outputs": [],
   "source": [
    "def check_lang(data_str):\n",
    "    predict_lang = langid.classify(data_str)\n",
    "    if predict_lang[1] >= .9:\n",
    "        language = predict_lang[0]\n",
    "    else:\n",
    "        language = 'NA'\n",
    "    return language"
   ]
  },
  {
   "cell_type": "code",
   "execution_count": null,
   "metadata": {
    "collapsed": true,
    "id": "LRCImQpEaQ5p"
   },
   "outputs": [],
   "source": [
    "\n",
    "def remove_features(data_str):\n",
    "    # compile regex\n",
    "    url_re = re.compile('https?://(www.)?\\w+\\.\\w+(/\\w+)*/?')\n",
    "    punc_re = re.compile('[%s]' % re.escape(string.punctuation))\n",
    "    num_re = re.compile('(\\\\d+)')\n",
    "    mention_re = re.compile('@(\\w+)')\n",
    "    alpha_num_re = re.compile(\"^[a-z0-9_.]+$\")\n",
    "    # convert to lowercase\n",
    "    data_str = data_str.lower()\n",
    "    # remove hyperlinks\n",
    "    data_str = url_re.sub(' ', data_str)\n",
    "    # remove @mentions\n",
    "    data_str = mention_re.sub(' ', data_str)\n",
    "    # remove puncuation\n",
    "    data_str = punc_re.sub(' ', data_str)\n",
    "    # remove numeric 'words'\n",
    "    data_str = num_re.sub(' ', data_str)\n",
    "    # remove non a-z 0-9 characters and words shorter than 3 characters\n",
    "    list_pos = 0\n",
    "    cleaned_str = ''\n",
    "    for word in data_str.split():\n",
    "        if list_pos == 0:\n",
    "            if alpha_num_re.match(word) and len(word) > 2:\n",
    "                cleaned_str = word\n",
    "            else:\n",
    "                cleaned_str = ' '\n",
    "        else:\n",
    "            if alpha_num_re.match(word) and len(word) > 2:\n",
    "                cleaned_str = cleaned_str + ' ' + word\n",
    "            else:\n",
    "                cleaned_str += ' '\n",
    "        list_pos += 1\n",
    "    return cleaned_str"
   ]
  },
  {
   "cell_type": "code",
   "execution_count": null,
   "metadata": {
    "collapsed": true,
    "id": "UsVLOfgoaTXA"
   },
   "outputs": [],
   "source": [
    "def remove_stops(data_str):\n",
    "    stops = set(stopwords.words(\"english\"))\n",
    "    list_pos = 0\n",
    "    cleaned_str = ''\n",
    "    text = data_str.split()\n",
    "    for word in text:\n",
    "        if word not in stops:\n",
    "            if list_pos == 0:\n",
    "                cleaned_str = word\n",
    "            else:\n",
    "                cleaned_str = cleaned_str + ' ' + word\n",
    "            list_pos += 1\n",
    "    return cleaned_str"
   ]
  },
  {
   "cell_type": "code",
   "execution_count": null,
   "metadata": {
    "collapsed": true,
    "id": "JBc-W7glaVeW"
   },
   "outputs": [],
   "source": [
    "def tag_and_remove(data_str):\n",
    "    cleaned_str = ' '\n",
    "    # noun tags\n",
    "    nn_tags = ['NN', 'NNP', 'NNP', 'NNPS', 'NNS']\n",
    "    # adjectives\n",
    "    jj_tags = ['JJ', 'JJR', 'JJS']\n",
    "    # verbs\n",
    "    vb_tags = ['VB', 'VBD', 'VBG', 'VBN', 'VBP', 'VBZ']\n",
    "    nltk_tags = nn_tags + jj_tags + vb_tags\n",
    "\n",
    "    text = data_str.split()\n",
    "\n",
    "    # tagging the text and keep only those which have right tags\n",
    "    tagged_text = pos_tag(text)\n",
    "    for tagged_word in tagged_text:\n",
    "        if tagged_word[1] in nltk_tags:\n",
    "            cleaned_str += tagged_word[0] + ' '\n",
    "\n",
    "    return cleaned_str"
   ]
  },
  {
   "cell_type": "code",
   "execution_count": null,
   "metadata": {
    "collapsed": true,
    "id": "_KlKZ55vahCV"
   },
   "outputs": [],
   "source": [
    "def lemmatize(data_str):\n",
    "    list_pos = 0\n",
    "    cleaned_str = ''\n",
    "    lmtzr = WordNetLemmatizer()\n",
    "    text = data_str.split()\n",
    "    tagged_words = pos_tag(text)\n",
    "    for word in tagged_words:\n",
    "        if 'v' in word[1].lower():\n",
    "            lemma = lmtzr.lemmatize(word[0], pos='v')\n",
    "        else:\n",
    "            lemma = lmtzr.lemmatize(word[0], pos='n')\n",
    "        if list_pos == 0:\n",
    "            cleaned_str = lemma\n",
    "        else:\n",
    "            cleaned_str = cleaned_str + ' ' + lemma\n",
    "        list_pos += 1\n",
    "    return cleaned_str"
   ]
  },
  {
   "cell_type": "code",
   "execution_count": null,
   "metadata": {
    "collapsed": true,
    "id": "inulC4r8ajYy"
   },
   "outputs": [],
   "source": [
    "check_lang_udf = udf(check_lang, StringType())\n",
    "remove_stops_udf = udf(remove_stops, StringType())\n",
    "remove_features_udf = udf(remove_features, StringType())\n",
    "tag_and_remove_udf = udf(tag_and_remove, StringType())\n",
    "lemmatize_udf = udf(lemmatize, StringType())\n",
    "check_blanks_udf = udf(check_blanks, StringType())"
   ]
  },
  {
   "cell_type": "code",
   "execution_count": null,
   "metadata": {
    "collapsed": true,
    "id": "00zVQqehalig"
   },
   "outputs": [],
   "source": [
    "final_schema = StructType([StructField(\"text\", StringType(),True),\n",
    "                           StructField(\"id\",StringType(),True),\n",
    "                           StructField(\"label\",FloatType(), True)])\n"
   ]
  },
  {
   "cell_type": "code",
   "execution_count": null,
   "metadata": {
    "collapsed": true,
    "id": "GAyKez0IapCL"
   },
   "outputs": [],
   "source": [
    "data_df=spark.read.schema(final_schema).csv('/content/twitter1.csv')"
   ]
  },
  {
   "cell_type": "code",
   "execution_count": null,
   "metadata": {
    "colab": {
     "base_uri": "https://localhost:8080/"
    },
    "id": "96TrN2Qya3zT",
    "outputId": "8109c0de-d97c-47e1-b1ea-f2a827c4f121"
   },
   "outputs": [
    {
     "name": "stdout",
     "output_type": "stream",
     "text": [
      "+--------------------+----------+-----+\n",
      "|                text|        id|label|\n",
      "+--------------------+----------+-----+\n",
      "|@switchfoot http:...|1467810369|  0.0|\n",
      "|is upset that he ...|1467810672|  0.0|\n",
      "|@Kenichan I dived...|1467810917|  0.0|\n",
      "|my whole body fee...|1467811184|  0.0|\n",
      "|@nationwideclass ...|1467811193|  0.0|\n",
      "+--------------------+----------+-----+\n",
      "only showing top 5 rows\n",
      "\n"
     ]
    }
   ],
   "source": [
    "data_df.show(5)"
   ]
  },
  {
   "cell_type": "code",
   "execution_count": null,
   "metadata": {
    "colab": {
     "base_uri": "https://localhost:8080/"
    },
    "id": "YegGIwqka7i4",
    "outputId": "e4b1c321-0d84-4844-a1ef-f69cc03edd31"
   },
   "outputs": [
    {
     "name": "stdout",
     "output_type": "stream",
     "text": [
      "root\n",
      " |-- text: string (nullable = true)\n",
      " |-- id: string (nullable = true)\n",
      " |-- label: float (nullable = true)\n",
      "\n"
     ]
    }
   ],
   "source": [
    "data_df.printSchema()"
   ]
  },
  {
   "cell_type": "code",
   "execution_count": null,
   "metadata": {
    "colab": {
     "base_uri": "https://localhost:8080/"
    },
    "id": "fs5-jLxJa-t7",
    "outputId": "a49118e4-677a-4ac9-b9fd-fc795e5fe0f7"
   },
   "outputs": [
    {
     "name": "stdout",
     "output_type": "stream",
     "text": [
      "['text', 'id', 'label']\n"
     ]
    }
   ],
   "source": [
    "# get the raw columns\n",
    "raw_cols = data_df.columns\n",
    "print(raw_cols)"
   ]
  },
  {
   "cell_type": "code",
   "execution_count": null,
   "metadata": {
    "colab": {
     "base_uri": "https://localhost:8080/"
    },
    "id": "VIxvfpUfbA8J",
    "outputId": "74978dad-c3da-49b5-f788-e868b2c581ad"
   },
   "outputs": [
    {
     "name": "stdout",
     "output_type": "stream",
     "text": [
      "+--------------------+----------+-----+----+\n",
      "|                text|        id|label|lang|\n",
      "+--------------------+----------+-----+----+\n",
      "|No picnic  my pho...|1467833672|  0.0|  en|\n",
      "|watching &quot;Ho...|1467837470|  0.0|  en|\n",
      "|      almost bedtime|1467842299|  0.0|  en|\n",
      "|       Agh...snow!!!|1467842448|  0.0|  en|\n",
      "+--------------------+----------+-----+----+\n",
      "only showing top 4 rows\n",
      "\n"
     ]
    }
   ],
   "source": [
    "lang_df = data_df.withColumn(\"lang\", check_lang_udf(data_df[\"text\"]))\n",
    "en_df = lang_df.filter(lang_df[\"lang\"] == \"en\")\n",
    "en_df.show(4)w"
   ]
  },
  {
   "cell_type": "code",
   "execution_count": null,
   "metadata": {
    "colab": {
     "base_uri": "https://localhost:8080/"
    },
    "id": "LsnnV9PNbDAo",
    "outputId": "ab280ab5-d8cf-4c51-a226-9f531cde97d3"
   },
   "outputs": [
    {
     "name": "stdout",
     "output_type": "stream",
     "text": [
      "+--------------------+----------+-----+--------------------+\n",
      "|                text|        id|label|           stop_text|\n",
      "+--------------------+----------+-----+--------------------+\n",
      "|No picnic  my pho...|1467833672|  0.0|No picnic phone s...|\n",
      "|watching &quot;Ho...|1467837470|  0.0|watching &quot;Ho...|\n",
      "|      almost bedtime|1467842299|  0.0|      almost bedtime|\n",
      "|       Agh...snow!!!|1467842448|  0.0|       Agh...snow!!!|\n",
      "+--------------------+----------+-----+--------------------+\n",
      "only showing top 4 rows\n",
      "\n"
     ]
    }
   ],
   "source": [
    "rm_stops_df = en_df.select(raw_cols)\\\n",
    "                   .withColumn(\"stop_text\", remove_stops_udf(en_df[\"text\"]))\n",
    "rm_stops_df.show(4)"
   ]
  },
  {
   "cell_type": "code",
   "execution_count": null,
   "metadata": {
    "colab": {
     "base_uri": "https://localhost:8080/"
    },
    "id": "9jbYNynzcxwA",
    "outputId": "660ad857-68c4-431c-9123-f2c64fe7b2b6"
   },
   "outputs": [
    {
     "name": "stdout",
     "output_type": "stream",
     "text": [
      "+--------------------+----------+-----+--------------------+--------------------+\n",
      "|                text|        id|label|           stop_text|           feat_text|\n",
      "+--------------------+----------+-----+--------------------+--------------------+\n",
      "|No picnic  my pho...|1467833672|  0.0|No picnic phone s...|  picnic phone sm...|\n",
      "|watching &quot;Ho...|1467837470|  0.0|watching &quot;Ho...|watching quot hou...|\n",
      "|      almost bedtime|1467842299|  0.0|      almost bedtime|      almost bedtime|\n",
      "|       Agh...snow!!!|1467842448|  0.0|       Agh...snow!!!|            agh snow|\n",
      "+--------------------+----------+-----+--------------------+--------------------+\n",
      "only showing top 4 rows\n",
      "\n"
     ]
    }
   ],
   "source": [
    "rm_features_df = rm_stops_df.select(raw_cols+[\"stop_text\"])\\\n",
    "                            .withColumn(\"feat_text\", \\\n",
    "                            remove_features_udf(rm_stops_df[\"stop_text\"]))\n",
    "rm_features_df.show(4)"
   ]
  },
  {
   "cell_type": "code",
   "execution_count": null,
   "metadata": {
    "colab": {
     "base_uri": "https://localhost:8080/"
    },
    "id": "9ZzErooFfQ90",
    "outputId": "954b992c-4cb3-4869-c084-245da57c47c3"
   },
   "outputs": [
    {
     "name": "stdout",
     "output_type": "stream",
     "text": [
      "+--------------------+----------+-----+--------------------+--------------------+\n",
      "|                text|        id|label|           feat_text|         tagged_text|\n",
      "+--------------------+----------+-----+--------------------+--------------------+\n",
      "|No picnic  my pho...|1467833672|  0.0|  picnic phone sm...| picnic phone sme...|\n",
      "|watching &quot;Ho...|1467837470|  0.0|watching quot hou...| watching quot ho...|\n",
      "|      almost bedtime|1467842299|  0.0|      almost bedtime|            bedtime |\n",
      "|       Agh...snow!!!|1467842448|  0.0|            agh snow|           agh snow |\n",
      "+--------------------+----------+-----+--------------------+--------------------+\n",
      "only showing top 4 rows\n",
      "\n"
     ]
    }
   ],
   "source": [
    "tagged_df = rm_features_df.select(raw_cols+[\"feat_text\"]) \\\n",
    "                          .withColumn(\"tagged_text\", \\\n",
    "                           tag_and_remove_udf(rm_features_df.feat_text))\n",
    "\n",
    "tagged_df.show(4)"
   ]
  },
  {
   "cell_type": "code",
   "execution_count": null,
   "metadata": {
    "colab": {
     "base_uri": "https://localhost:8080/"
    },
    "id": "HGJTsvDNfTMC",
    "outputId": "b85f7aa3-a905-4806-eb69-0bf5f84275db"
   },
   "outputs": [
    {
     "name": "stdout",
     "output_type": "stream",
     "text": [
      "+--------------------+----------+-----+--------------------+--------------------+\n",
      "|                text|        id|label|         tagged_text|           lemm_text|\n",
      "+--------------------+----------+-----+--------------------+--------------------+\n",
      "|No picnic  my pho...|1467833672|  0.0| picnic phone sme...|picnic phone smel...|\n",
      "|watching &quot;Ho...|1467837470|  0.0| watching quot ho...|watch quot house ...|\n",
      "|      almost bedtime|1467842299|  0.0|            bedtime |             bedtime|\n",
      "|       Agh...snow!!!|1467842448|  0.0|           agh snow |            agh snow|\n",
      "+--------------------+----------+-----+--------------------+--------------------+\n",
      "only showing top 4 rows\n",
      "\n"
     ]
    }
   ],
   "source": [
    "lemm_df = tagged_df.select(raw_cols+[\"tagged_text\"]) \\\n",
    "                   .withColumn(\"lemm_text\", lemmatize_udf(tagged_df[\"tagged_text\"]))\n",
    "lemm_df.show(4)"
   ]
  },
  {
   "cell_type": "code",
   "execution_count": null,
   "metadata": {
    "colab": {
     "base_uri": "https://localhost:8080/"
    },
    "id": "bXBBTIJigVNm",
    "outputId": "42d92216-689c-4c4c-b58d-3816b2208fbc"
   },
   "outputs": [
    {
     "name": "stdout",
     "output_type": "stream",
     "text": [
      "+--------------------+----------+-----+---------+--------+\n",
      "|                text|        id|label|lemm_text|is_blank|\n",
      "+--------------------+----------+-----+---------+--------+\n",
      "|@CoderNeedsFood ugh.|1752740530|  0.0|         |   False|\n",
      "|@Marievh  http://...|1834156755|  1.0|         |   False|\n",
      "|@RussFilice Now I...|1833636946|  1.0|     love|   False|\n",
      "|@SRBMALIK  Clean Me!|1564143990|  0.0|    clean|   False|\n",
      "+--------------------+----------+-----+---------+--------+\n",
      "only showing top 4 rows\n",
      "\n"
     ]
    }
   ],
   "source": [
    "check_blanks_df = lemm_df.select(raw_cols+[\"lemm_text\"])\\\n",
    "                             .withColumn(\"is_blank\", check_blanks_udf(lemm_df[\"lemm_text\"]))\n",
    "    # remove blanks\n",
    "no_blanks_df = check_blanks_df.filter(check_blanks_df[\"is_blank\"] == \"False\")\n",
    "\n",
    "# drop duplicates\n",
    "dedup_df = no_blanks_df.dropDuplicates(['text', 'label'])\n",
    "\n",
    "dedup_df.show(4)"
   ]
  },
  {
   "cell_type": "code",
   "execution_count": null,
   "metadata": {
    "colab": {
     "base_uri": "https://localhost:8080/"
    },
    "id": "Kn3_wZeVhdVX",
    "outputId": "38396008-0495-4c32-d042-a27552b5fb02"
   },
   "outputs": [
    {
     "name": "stdout",
     "output_type": "stream",
     "text": [
      "+--------------------+----------+-----+--------------------+--------------------+---+\n",
      "|                text|        id|label|         tagged_text|           lemm_text|uid|\n",
      "+--------------------+----------+-----+--------------------+--------------------+---+\n",
      "|No picnic  my pho...|1467833672|  0.0| picnic phone sme...|picnic phone smel...|  0|\n",
      "|watching &quot;Ho...|1467837470|  0.0| watching quot ho...|watch quot house ...|  1|\n",
      "|      almost bedtime|1467842299|  0.0|            bedtime |             bedtime|  2|\n",
      "|       Agh...snow!!!|1467842448|  0.0|           agh snow |            agh snow|  3|\n",
      "+--------------------+----------+-----+--------------------+--------------------+---+\n",
      "only showing top 4 rows\n",
      "\n"
     ]
    }
   ],
   "source": [
    "from pyspark.sql.functions import monotonically_increasing_id\n",
    "# Create Unique ID\n",
    "lemm_df = lemm_df.withColumn(\"uid\", monotonically_increasing_id())\n",
    "lemm_df.show(4)"
   ]
  },
  {
   "cell_type": "code",
   "execution_count": null,
   "metadata": {
    "colab": {
     "base_uri": "https://localhost:8080/"
    },
    "id": "CyvFqCXIli8A",
    "outputId": "ad1ab8b9-137f-413c-d23b-bac8fcc5e1c8"
   },
   "outputs": [
    {
     "name": "stdout",
     "output_type": "stream",
     "text": [
      "+---+--------------------+-----+\n",
      "|uid|           lemm_text|label|\n",
      "+---+--------------------+-----+\n",
      "|  0|picnic phone smel...|  0.0|\n",
      "|  1|watch quot house ...|  0.0|\n",
      "|  2|             bedtime|  0.0|\n",
      "|  3|            agh snow|  0.0|\n",
      "+---+--------------------+-----+\n",
      "only showing top 4 rows\n",
      "\n"
     ]
    }
   ],
   "source": [
    "data = lemm_df.select('uid','lemm_text','label')\n",
    "data.show(4)"
   ]
  },
  {
   "cell_type": "code",
   "execution_count": null,
   "metadata": {
    "collapsed": true,
    "id": "6MT-SBPvmuVt"
   },
   "outputs": [],
   "source": [
    "\n",
    "(trainingData, testData) = data.randomSplit([0.8, 0.2])"
   ]
  },
  {
   "cell_type": "code",
   "execution_count": null,
   "metadata": {
    "collapsed": true,
    "id": "CiivPX0Qn_aT"
   },
   "outputs": [],
   "source": [
    "from pyspark.ml.feature import HashingTF, IDF, Tokenizer\n",
    "from pyspark.ml import Pipeline\n",
    "from pyspark.ml.classification import NaiveBayes\n",
    "\n",
    "tokenizer = Tokenizer(inputCol=\"lemm_text\", outputCol=\"words\")\n",
    "hashingTF = HashingTF(inputCol=tokenizer.getOutputCol(), outputCol=\"rawFeatures\")\n",
    "idf = IDF(minDocFreq=3, inputCol=\"rawFeatures\", outputCol=\"features\")\n",
    "\n",
    "nb = NaiveBayes()\n",
    "\n",
    "pipeline = Pipeline(stages=[tokenizer, hashingTF, idf, nb])\n",
    "\n",
    "model = pipeline.fit(trainingData)"
   ]
  },
  {
   "cell_type": "code",
   "execution_count": null,
   "metadata": {
    "colab": {
     "base_uri": "https://localhost:8080/"
    },
    "id": "utq-F30WoF3u",
    "outputId": "b42d37a7-5448-41fb-f8b9-63a529f2a96d"
   },
   "outputs": [
    {
     "name": "stdout",
     "output_type": "stream",
     "text": [
      "+---------------------+-----+----------+\n",
      "|lemm_text            |label|prediction|\n",
      "+---------------------+-----+----------+\n",
      "|watch quot house quot|0.0  |1.0       |\n",
      "|reckon               |0.0  |1.0       |\n",
      "|work                 |0.0  |0.0       |\n",
      "|new post             |0.0  |1.0       |\n",
      "|tire                 |0.0  |0.0       |\n",
      "+---------------------+-----+----------+\n",
      "only showing top 5 rows\n",
      "\n"
     ]
    }
   ],
   "source": [
    "predictions = model.transform(testData)\n",
    "\n",
    "predictions.select(\"lemm_text\", \"label\", \"prediction\").show(5,False) "
   ]
  },
  {
   "cell_type": "code",
   "execution_count": null,
   "metadata": {
    "colab": {
     "base_uri": "https://localhost:8080/"
    },
    "id": "WQNWfg4xsCDj",
    "outputId": "bde8bdff-431d-4c20-d761-03ebbb852d0d"
   },
   "outputs": [
    {
     "data": {
      "text/plain": [
       "0.8089727234068405"
      ]
     },
     "execution_count": 30,
     "metadata": {
      "tags": []
     },
     "output_type": "execute_result"
    }
   ],
   "source": [
    "from pyspark.ml.evaluation import BinaryClassificationEvaluator\n",
    "\n",
    "# Evaluate model\n",
    "evaluator = BinaryClassificationEvaluator(rawPredictionCol=\"prediction\")\n",
    "evaluator.evaluate(predictions)\n"
   ]
  },
  {
   "cell_type": "code",
   "execution_count": null,
   "metadata": {
    "colab": {
     "base_uri": "https://localhost:8080/"
    },
    "id": "qmR9ztZttGjx",
    "outputId": "8aa704a3-3b8e-4181-bf24-266945420939"
   },
   "outputs": [
    {
     "data": {
      "text/plain": [
       "0.8132560570201448"
      ]
     },
     "execution_count": 31,
     "metadata": {
      "tags": []
     },
     "output_type": "execute_result"
    }
   ],
   "source": [
    "from pyspark.ml.evaluation import MulticlassClassificationEvaluator\n",
    "evaluator = MulticlassClassificationEvaluator(predictionCol=\"prediction\")\n",
    "evaluator.evaluate(predictions)"
   ]
  },
  {
   "cell_type": "code",
   "execution_count": null,
   "metadata": {
    "colab": {
     "base_uri": "https://localhost:8080/"
    },
    "id": "Jl9OvmoD11Yf",
    "outputId": "b0e41f57-2b0f-44b1-9193-0c9aa8e96932"
   },
   "outputs": [
    {
     "data": {
      "text/plain": [
       "<bound method MLWritable.save of PipelineModel_6c0b20682d1b>"
      ]
     },
     "execution_count": 36,
     "metadata": {
      "tags": []
     },
     "output_type": "execute_result"
    }
   ],
   "source": [
    "model.save           "
   ]
  },
  {
   "cell_type": "code",
   "execution_count": null,
   "metadata": {
    "collapsed": true,
    "id": "zgWVUUlb4L_4"
   },
   "outputs": [],
   "source": [
    "!mkdir -p saved_model\n",
    "model.save('saved_model/my_model')"
   ]
  },
  {
   "cell_type": "code",
   "execution_count": null,
   "metadata": {
    "colab": {
     "base_uri": "https://localhost:8080/"
    },
    "id": "SVVDG-qoL5-B",
    "outputId": "e641841e-812c-4ea1-a80c-854ce8c6e205"
   },
   "outputs": [
    {
     "name": "stdout",
     "output_type": "stream",
     "text": [
      " spark dataframe sample:\n",
      "+-------------------------------------------------------------------------------------------------------------------+\n",
      "|lemm_text                                                                                                          |\n",
      "+-------------------------------------------------------------------------------------------------------------------+\n",
      "|@BerzerkerBuilds Why does #Trump think that #Biden2020 would repeat a #Trump campaign slogan????                   |\n",
      "|RT @kenklippenstein: Yesterday as Trump refused to condemn far-right violence                                      |\n",
      "|RT @ddale8: Almost every single thing Trump said in the debate segment on mail-in voting was wrong.                |\n",
      "|With @MarshallCohen                                                                                                |\n",
      "|RT @paulsperry_: Pundits &amp; Never-Trumpers still don't get why Trump's base remains so loyal to him. Here's why:|\n",
      "+-------------------------------------------------------------------------------------------------------------------+\n",
      "only showing top 5 rows\n",
      "\n"
     ]
    }
   ],
   "source": [
    "data = sc.textFile('/content/dataset.txt')\n",
    "df_loads = spark.read.option(\"header\", \"true\").csv(data)\n",
    "print(\" spark dataframe sample:\")\n",
    "df_loads.show(5, False)\n",
    "\n"
   ]
  },
  {
   "cell_type": "code",
   "execution_count": null,
   "metadata": {
    "colab": {
     "base_uri": "https://localhost:8080/"
    },
    "id": "TVhz_uMyceFD",
    "outputId": "ef4fc352-5e3d-443e-c087-a807a8483896"
   },
   "outputs": [
    {
     "name": "stdout",
     "output_type": "stream",
     "text": [
      "+-----------------------------------------------------------------------------------------------------------------+\n",
      "|lemm_text                                                                                                        |\n",
      "+-----------------------------------------------------------------------------------------------------------------+\n",
      "|@BerzerkerBuilds Why does #Trump think that #Biden2020 would repeat a #Trump campaign slogan????                 |\n",
      "| @kenklippenstein: Yesterday as Trump refused to condemn far-right violence                                      |\n",
      "| @ddale8: Almost every single thing Trump said in the debate segment on mail-in voting was wrong.                |\n",
      "|With @MarshallCohen                                                                                              |\n",
      "| @paulsperry_: Pundits &amp; Never-Trumpers still don't get why Trump's base remains so loyal to him. Here's why:|\n",
      "+-----------------------------------------------------------------------------------------------------------------+\n",
      "only showing top 5 rows\n",
      "\n"
     ]
    }
   ],
   "source": [
    "df_loads = df_loads.withColumn('lemm_text', regexp_replace('lemm_text','RT', ''))\n",
    "df_loads.show(5,False)"
   ]
  },
  {
   "cell_type": "code",
   "execution_count": null,
   "metadata": {
    "colab": {
     "base_uri": "https://localhost:8080/"
    },
    "id": "ae1whfXjeKba",
    "outputId": "f7195dc4-75c1-4565-9782-519917908542"
   },
   "outputs": [
    {
     "name": "stdout",
     "output_type": "stream",
     "text": [
      "+-----------------------------------------------------------------------------------------------------+\n",
      "|lemm_text                                                                                            |\n",
      "+-----------------------------------------------------------------------------------------------------+\n",
      "| Why does #Trump think that #Biden2020 would repeat a #Trump campaign slogan????                     |\n",
      "| : Yesterday as Trump refused to condemn far-right violence                                          |\n",
      "| : Almost every single thing Trump said in the debate segment on mail-in voting was wrong.           |\n",
      "|With                                                                                                 |\n",
      "| : Pundits &amp; Never-Trumpers still don't get why Trump's base remains so loyal to him. Here's why:|\n",
      "+-----------------------------------------------------------------------------------------------------+\n",
      "only showing top 5 rows\n",
      "\n"
     ]
    }
   ],
   "source": [
    "df_loads = df_loads.withColumn('lemm_text', regexp_replace('lemm_text','@\\w+', ''))\n",
    "df_loads.show(5,False)"
   ]
  },
  {
   "cell_type": "code",
   "execution_count": null,
   "metadata": {
    "collapsed": true,
    "id": "ULGebAxxceP1"
   },
   "outputs": [],
   "source": [
    "df_loads = df_loads.withColumn('lemm_text', regexp_replace('lemm_text','http\\S+', ''))"
   ]
  },
  {
   "cell_type": "code",
   "execution_count": null,
   "metadata": {
    "collapsed": true,
    "id": "TpbZpa_kceYy"
   },
   "outputs": [],
   "source": [
    "df_loads = df_loads.withColumn('lemm_text', regexp_replace('lemm_text','www.[^ ]+', ''))"
   ]
  },
  {
   "cell_type": "code",
   "execution_count": null,
   "metadata": {
    "collapsed": true,
    "id": "6iSO4kl9cehC"
   },
   "outputs": [],
   "source": [
    "df_loads = df_loads.withColumn('lemm_text', regexp_replace('lemm_text','[0-9]+',''))"
   ]
  },
  {
   "cell_type": "markdown",
   "metadata": {
    "id": "0MZeHJDNYH0K"
   },
   "source": []
  },
  {
   "cell_type": "code",
   "execution_count": null,
   "metadata": {
    "collapsed": true,
    "id": "-molSt9Iceos"
   },
   "outputs": [],
   "source": [
    "df_loads = df_loads.withColumn('lemm_text', regexp_replace('lemm_text','[!\"#$%&()*+,-./:;<=>?@^_`{|}~]',''))"
   ]
  },
  {
   "cell_type": "code",
   "execution_count": null,
   "metadata": {
    "collapsed": true,
    "id": "CiRMUlsqce08"
   },
   "outputs": [],
   "source": [
    "df_loads = df_loads.withColumn('lemm_text', regexp_replace('lemm_text','trump',''))"
   ]
  },
  {
   "cell_type": "code",
   "execution_count": null,
   "metadata": {
    "collapsed": true,
    "id": "5Xd6GaWZevZM"
   },
   "outputs": [],
   "source": [
    "df_loads = df_loads.withColumn('lemm_text', regexp_replace('lemm_text','biden',''))"
   ]
  },
  {
   "cell_type": "code",
   "execution_count": null,
   "metadata": {
    "colab": {
     "base_uri": "https://localhost:8080/"
    },
    "id": "eqWL_Hk6e2Nv",
    "outputId": "ce53a81c-3859-4af7-f972-a19de77c4e1d"
   },
   "outputs": [
    {
     "name": "stdout",
     "output_type": "stream",
     "text": [
      "+-----------------------------------------------------------------------------------------------+\n",
      "|lemm_text                                                                                      |\n",
      "+-----------------------------------------------------------------------------------------------+\n",
      "| Why does Trump think that Biden would repeat a Trump campaign slogan                          |\n",
      "|  Yesterday as Trump refused to condemn farright violence                                      |\n",
      "|  Almost every single thing Trump said in the debate segment on mailin voting was wrong        |\n",
      "|With                                                                                           |\n",
      "|  Pundits amp NeverTrumpers still don't get why Trump's base remains so loyal to him Here's why|\n",
      "+-----------------------------------------------------------------------------------------------+\n",
      "only showing top 5 rows\n",
      "\n"
     ]
    }
   ],
   "source": [
    "df_loads.show(5,False)"
   ]
  },
  {
   "cell_type": "code",
   "execution_count": null,
   "metadata": {
    "colab": {
     "base_uri": "https://localhost:8080/"
    },
    "id": "uhI_K4Sge2lo",
    "outputId": "6165882e-759c-465e-ef23-d86e140edee4"
   },
   "outputs": [
    {
     "name": "stdout",
     "output_type": "stream",
     "text": [
      "+-----------------------------------------------------------------------------------------------+----------+\n",
      "|lemm_text                                                                                      |prediction|\n",
      "+-----------------------------------------------------------------------------------------------+----------+\n",
      "| Why does Trump think that Biden would repeat a Trump campaign slogan                          |0.0       |\n",
      "|  Yesterday as Trump refused to condemn farright violence                                      |0.0       |\n",
      "|  Almost every single thing Trump said in the debate segment on mailin voting was wrong        |1.0       |\n",
      "|With                                                                                           |1.0       |\n",
      "|  Pundits amp NeverTrumpers still don't get why Trump's base remains so loyal to him Here's why|1.0       |\n",
      "+-----------------------------------------------------------------------------------------------+----------+\n",
      "only showing top 5 rows\n",
      "\n"
     ]
    }
   ],
   "source": [
    "predictions = model.transform(df_loads)\n",
    "\n",
    "# Select example rows to display.\n",
    "predictions.select(\"lemm_text\",\"prediction\").show(5,False) "
   ]
  },
  {
   "cell_type": "code",
   "execution_count": null,
   "metadata": {
    "collapsed": true,
    "id": "81L06GBke2pI"
   },
   "outputs": [],
   "source": [
    "data007=predictions.select(\"lemm_text\",\"prediction\")"
   ]
  },
  {
   "cell_type": "code",
   "execution_count": null,
   "metadata": {
    "colab": {
     "base_uri": "https://localhost:8080/"
    },
    "id": "yY3PyGnfe2xl",
    "outputId": "0f6beb48-ff0c-45a0-de8f-55717da4113f"
   },
   "outputs": [
    {
     "data": {
      "text/plain": [
       "['lemm_text', 'prediction']"
      ]
     },
     "execution_count": 150,
     "metadata": {
      "tags": []
     },
     "output_type": "execute_result"
    }
   ],
   "source": [
    "data007.columns"
   ]
  },
  {
   "cell_type": "code",
   "execution_count": null,
   "metadata": {
    "colab": {
     "base_uri": "https://localhost:8080/"
    },
    "id": "LMXHN0TxmysV",
    "outputId": "b0b34b16-9f5c-4c90-e520-1468335f910f"
   },
   "outputs": [
    {
     "name": "stdout",
     "output_type": "stream",
     "text": [
      "+----------+\n",
      "|prediction|\n",
      "+----------+\n",
      "|       0.0|\n",
      "|       0.0|\n",
      "|       1.0|\n",
      "|       1.0|\n",
      "|       1.0|\n",
      "|       1.0|\n",
      "|       1.0|\n",
      "|       1.0|\n",
      "|       1.0|\n",
      "|       1.0|\n",
      "|       1.0|\n",
      "|       1.0|\n",
      "|       1.0|\n",
      "|       1.0|\n",
      "|       1.0|\n",
      "|       1.0|\n",
      "|       1.0|\n",
      "|       0.0|\n",
      "|       1.0|\n",
      "|       0.0|\n",
      "+----------+\n",
      "only showing top 20 rows\n",
      "\n"
     ]
    }
   ],
   "source": [
    "data007.select('prediction').show()"
   ]
  },
  {
   "cell_type": "code",
   "execution_count": null,
   "metadata": {
    "colab": {
     "base_uri": "https://localhost:8080/"
    },
    "id": "oCBzWYg7m7Do",
    "outputId": "7b57b667-2a76-463c-b693-e271b05fa177"
   },
   "outputs": [
    {
     "name": "stdout",
     "output_type": "stream",
     "text": [
      "root\n",
      " |-- lemm_text: string (nullable = true)\n",
      " |-- prediction: double (nullable = false)\n",
      "\n"
     ]
    }
   ],
   "source": [
    "data007.printSchema()"
   ]
  },
  {
   "cell_type": "code",
   "execution_count": null,
   "metadata": {
    "colab": {
     "base_uri": "https://localhost:8080/"
    },
    "id": "D1BYLqyhnGZP",
    "outputId": "4b78a8fa-69a9-4f5c-e079-9bab39c7ec1f"
   },
   "outputs": [
    {
     "name": "stdout",
     "output_type": "stream",
     "text": [
      "+--------------------+----------+\n",
      "|           lemm_text|prediction|\n",
      "+--------------------+----------+\n",
      "| Why does Trump t...|       0.0|\n",
      "|  Yesterday as Tr...|       0.0|\n",
      "|Time to clean house |       0.0|\n",
      "|  Trump Battered ...|       0.0|\n",
      "|  I rewatched the...|       0.0|\n",
      "+--------------------+----------+\n",
      "only showing top 5 rows\n",
      "\n"
     ]
    }
   ],
   "source": [
    "df_neg=data007.filter(data007.prediction==0)\n",
    "df_neg.show(5)"
   ]
  },
  {
   "cell_type": "code",
   "execution_count": null,
   "metadata": {
    "colab": {
     "base_uri": "https://localhost:8080/"
    },
    "id": "APSxKZSYnVQS",
    "outputId": "f7d33372-3b10-4a4e-d0b7-d94e09748ffe"
   },
   "outputs": [
    {
     "name": "stdout",
     "output_type": "stream",
     "text": [
      "+--------------------+----------+\n",
      "|           lemm_text|prediction|\n",
      "+--------------------+----------+\n",
      "|  Almost every si...|       1.0|\n",
      "|               With |       1.0|\n",
      "|  Pundits amp Nev...|       1.0|\n",
      "| Trump's endeavor...|       1.0|\n",
      "|  Since President...|       1.0|\n",
      "+--------------------+----------+\n",
      "only showing top 5 rows\n",
      "\n"
     ]
    }
   ],
   "source": [
    "df_pos=data007.filter(data007.prediction==1)\n",
    "df_pos.show(5)"
   ]
  },
  {
   "cell_type": "code",
   "execution_count": null,
   "metadata": {
    "colab": {
     "base_uri": "https://localhost:8080/"
    },
    "id": "7hFRbDnqng8e",
    "outputId": "2dfd7f3a-5ae3-4ce2-eecd-e4938f9f4e92"
   },
   "outputs": [
    {
     "name": "stdout",
     "output_type": "stream",
     "text": [
      "+-----------------+\n",
      "|count(prediction)|\n",
      "+-----------------+\n",
      "|            19841|\n",
      "+-----------------+\n",
      "\n"
     ]
    }
   ],
   "source": [
    "df_pos_count=df_pos.select(count('prediction'))\n",
    "df_pos_count.show(5)"
   ]
  },
  {
   "cell_type": "code",
   "execution_count": null,
   "metadata": {
    "colab": {
     "base_uri": "https://localhost:8080/"
    },
    "id": "QWWP8C80nqeS",
    "outputId": "e21802a9-cfd9-4f89-875c-53c1f4d005c6"
   },
   "outputs": [
    {
     "name": "stdout",
     "output_type": "stream",
     "text": [
      "+-----------------+\n",
      "|count(prediction)|\n",
      "+-----------------+\n",
      "|             5819|\n",
      "+-----------------+\n",
      "\n"
     ]
    }
   ],
   "source": [
    "df_neg_count=df_neg.select(count('prediction'))\n",
    "df_neg_count.show()"
   ]
  },
  {
   "cell_type": "code",
   "execution_count": null,
   "metadata": {
    "colab": {
     "base_uri": "https://localhost:8080/",
     "height": 437
    },
    "id": "V0uk1i58nwPB",
    "outputId": "5cc7e5da-6238-4d95-81ff-1522319933c3"
   },
   "outputs": [
    {
     "data": {
      "text/plain": [
       "<matplotlib.legend.Legend at 0x7fce9fff1198>"
      ]
     },
     "execution_count": 159,
     "metadata": {
      "tags": []
     },
     "output_type": "execute_result"
    },
    {
     "data": {
      "image/png": "[encoded data removed]",
      "text/plain": [
       "<Figure size 432x288 with 1 Axes>"
      ]
     },
     "metadata": {
      "tags": []
     },
     "output_type": "display_data"
    }
   ],
   "source": [
    "    sentiments = ['Positive Sentiment', 'Negetive Sentiment'] \n",
    "    slices = [19841, 5819] \n",
    "    colors = ['g', 'r'] \n",
    "    plt.pie(slices, labels = sentiments, colors=colors, startangle=90, shadow = True,\n",
    "    explode = (0, 0), radius = 2, autopct = '%1.2f%%') \n",
    "    plt.legend(loc=\"upper right\",bbox_to_anchor=(2, 0.5, 0.5, 1))"
   ]
  },
  {
   "cell_type": "code",
   "execution_count": null,
   "metadata": {
    "collapsed": true,
    "id": "-5yuc6tuoAD3"
   },
   "outputs": [],
   "source": []
  }
 ],
 "metadata": {
  "colab": {
   "collapsed_sections": [],
   "name": "big_dataJcomponent.ipynb",
   "provenance": []
  },
  "kernelspec": {
   "display_name": "Python 3",
   "language": "python",
   "name": "python3"
  },
  "language_info": {
   "codemirror_mode": {
    "name": "ipython",
    "version": 3
   },
   "file_extension": ".py",
   "mimetype": "text/x-python",
   "name": "python",
   "nbconvert_exporter": "python",
   "pygments_lexer": "ipython3",
   "version": "3.6.3"
  }
 },
 "nbformat": 4,
 "nbformat_minor": 1
}
